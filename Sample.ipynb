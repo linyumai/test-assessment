{
 "cells": [
  {
   "cell_type": "code",
   "execution_count": null,
   "metadata": {},
   "outputs": [],
   "source": [
    "import pandas as pd\n",
    "import numpy as np\n",
    "import matplotlib.pyplot as plt\n",
    "import math\n",
    "%matplotlib inline"
   ]
  },
  {
   "cell_type": "code",
   "execution_count": null,
   "metadata": {},
   "outputs": [],
   "source": [
    "# Test plt, numpy imports\n",
    "plt.scatter(np.random.randn(1000),\n",
    "            np.random.randn(1000),\n",
    "            c=np.random.randn(1000),\n",
    "            s=100)"
   ]
  },
  {
   "cell_type": "code",
   "execution_count": null,
   "metadata": {},
   "outputs": [],
   "source": [
    "# Test pandas import\n",
    "# Cannot run without lxml module\n",
    "list_of_df = pd.read_html('https://finance.yahoo.com/quote/C31.SI?p=C31.SI', index_col=0)\n",
    "list_of_df[0]"
   ]
  },
  {
   "cell_type": "markdown",
   "metadata": {},
   "source": [
    "#### Sample Questions"
   ]
  },
  {
   "cell_type": "markdown",
   "metadata": {},
   "source": [
    "#### <font color=green> Write a Python function `myfact(n)` to compute $n!$.</font>\n",
    "\n",
    "\\begin{equation*}\n",
    "n! =  \\left\\{ \\begin{matrix}\n",
    "1, & n=1 \\\\\n",
    "n\\times (n-1)! & \\mbox{otherwise}\n",
    "\\end{matrix}\n",
    "\\right.\n",
    "\\end{equation*}"
   ]
  },
  {
   "cell_type": "code",
   "execution_count": null,
   "metadata": {},
   "outputs": [],
   "source": [
    "#define myfactorial(n)\n",
    "def myfact(n):\n",
    "    return 1  # remove this line\n",
    "    # add your code\n",
    "    \n",
    "    \n",
    "#Do not alter any code below\n",
    "for n in [5,9,10]:\n",
    "    print(f'!{n} = {myfact(n)}')\n",
    "\n",
    "# Delete from production notebook\n",
    "# Possible solution:\n",
    "def myfact(n):\n",
    "    if n == 1:\n",
    "        return 1\n",
    "    else:\n",
    "        return n * myfact(n-1)"
   ]
  },
  {
   "cell_type": "markdown",
   "metadata": {},
   "source": [
    "#### <font color=green> Complete the following code to compute `Bill` for `DataUsage=15`.</font>\n",
    "\n",
    "\\begin{equation*}\n",
    "\\mbox{Bill}=62.90+\\min \\left(188, \n",
    "\\left\\{\n",
    "\\begin{array}{ll}\n",
    "0, & \\mbox{if } \\mbox{DataUsage} \\le 3 \\mbox{GB} \\\\\n",
    "10.70 \\lceil {\\mbox{DataUsage}-3} \\rceil , & \\mbox{otherwise}\n",
    "\\end{array}\n",
    "\\right.\n",
    "\\right)\n",
    "\\end{equation*}\n"
   ]
  },
  {
   "cell_type": "code",
   "execution_count": null,
   "metadata": {},
   "outputs": [],
   "source": [
    "def computeBill(data_usage):\n",
    "    return 1  # remove this line\n",
    "    # add your code\n",
    "\n",
    "#Do not alter any code below\n",
    "for data_usage in [15,1.5,30]:\n",
    "    print(f'Bill for {data_usage} GB Data Usage: {computeBill(data_usage)}')\n",
    "    \n",
    "# Delete from production notebook\n",
    "# Possible solution:\n",
    "def computeBill(data_usage):\n",
    "    if data_usage <= 3:\n",
    "        t1 = 0\n",
    "    else:\n",
    "        t1 = 10.70 * math.ceil(data_usage - 3)\n",
    "    return 62.90 + min(188, t1)"
   ]
  },
  {
   "cell_type": "markdown",
   "metadata": {},
   "source": [
    "#### Advanced Sample Questions"
   ]
  },
  {
   "cell_type": "markdown",
   "metadata": {},
   "source": [
    "#### <font color=green> Complete the following code to compute `y` for any value of `x`.</font>\n",
    "\n",
    "\\begin{equation*}\n",
    "y(x) = \\left\\{  \\begin{array}{lllll}\n",
    "0,&& 0&\\le x \\lt & 20,000 \\\\\n",
    "0&+0.020(x-20000), &  20,000&\\le x \\lt & 30,000 \\\\\n",
    "200&+0.035(x-30000), & 30,000&\\le x \\lt & 40,000\\\\\n",
    "550&+0.070(x-40000), & 40,000&\\le x \\lt & 80,000\\\\\n",
    "3350&+0.115(x-80000), & 80,000&\\le x \\lt & 120,000\\\\\n",
    "7950&+0.150(x-120000), & 120,000&\\le x \\lt & 160,000\\\\\n",
    "13950&+0.180(x-160000), & 160,000&\\le x \\\\\n",
    "\\end{array}\n",
    "\\right.\n",
    "\\end{equation*}\n"
   ]
  },
  {
   "cell_type": "code",
   "execution_count": null,
   "metadata": {},
   "outputs": [],
   "source": [
    "# You may choose to use the lists below\n",
    "bi=[0, 200, 550, 3_350, 7_950, 13_950]\n",
    "mi=[2.0, 3.5, 7.0, 11.5, 15.0, 18.0]\n",
    "xi=[20_000, 30_000, 40_000, 80_000, 120_000, 160_000, math.inf]\n",
    "\n",
    "def computeInterest(x):    \n",
    "    return x # remove this line\n",
    "    # add your code\n",
    "\n",
    "for x in [0,10_000,20_000,25_000,50_000,100_000,150_000,200_000]:\n",
    "    print(f'Interest for {x} loan: {computeInterest(x)}')\n",
    "\n",
    "# Delete from production notebook\n",
    "# Participants new to Python should write if else\n",
    "# Possible solution:\n",
    "def computeInterest(x):\n",
    "    \n",
    "    # Find in xi, the location (i) of the first number which is greater than x, \n",
    "    i = next(filter(lambda s: s[1]> x, enumerate(xi)))[0]\n",
    "    \n",
    "    # If i equals 0, y=0\n",
    "    if i == 0:\n",
    "        y = 0\n",
    "    # Else (if i is greater than 0), use bi[i-1], mi[i-1] and xi[i-1]\n",
    "    else:\n",
    "        y = bi[i-1]+mi[i-1]/100*(x-xi[i-1])\n",
    "    \n",
    "    return y"
   ]
  }
 ],
 "metadata": {
  "kernelspec": {
   "display_name": "Python 3",
   "language": "python",
   "name": "python3"
  },
  "language_info": {
   "codemirror_mode": {
    "name": "ipython",
    "version": 3
   },
   "file_extension": ".py",
   "mimetype": "text/x-python",
   "name": "python",
   "nbconvert_exporter": "python",
   "pygments_lexer": "ipython3",
   "version": "3.7.4"
  }
 },
 "nbformat": 4,
 "nbformat_minor": 2
}
